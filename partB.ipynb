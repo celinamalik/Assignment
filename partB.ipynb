{
 "cells": [
  {
   "cell_type": "markdown",
   "id": "4f1a16b8-9243-4bff-a89e-0a34bea24956",
   "metadata": {},
   "source": [
    "# **Part B - Comparing Run Times**"
   ]
  },
  {
   "cell_type": "markdown",
   "id": "00fb6d97-a216-477c-b1fb-db8a5ccd1e0d",
   "metadata": {},
   "source": [
    "***"
   ]
  },
  {
   "cell_type": "markdown",
   "id": "1bb995b2-fcd7-4c5d-b64d-8a302441d15e",
   "metadata": {},
   "source": [
    "I will now be comparing run times of the various approaches used to create formulas for finding standard deviation.\n",
    "The code is depicted below, and the final conclusion is shown towards the bottom of this file.\n",
    "\n",
    "In this file, I began with importing the various formulas defined in Part A. \n",
    "I named the file `formulas` for ease, but it is the same file as the Part A file. \n",
    "***"
   ]
  },
  {
   "cell_type": "code",
   "execution_count": null,
   "id": "d5813fb4-7164-49f7-975e-7e98c77c9533",
   "metadata": {},
   "outputs": [],
   "source": [
    "from formulas import std_loops, std_builtin, stdnumpy"
   ]
  },
  {
   "cell_type": "markdown",
   "id": "8b43b9b4-9eca-4726-b0b5-d137eb3b4968",
   "metadata": {},
   "source": [
    "***\n",
    "Now, I use the `open` function to open the comma-separated values sheet named `data.csv`. However, a `with` function precedes this line,\n",
    "as it is used for opening files in Python to prevent the system from crashing. The mode is set to `r` to read the data, with returns text.\n",
    "\n",
    "Next, the three separate columns are created into their corresponding variables, set equivalent to an empty list - this will store the data \n",
    "for each column.\n",
    "\n",
    "I then created a `for` loop for each column in the file. Using `strip` will erase any extra spaces, while `split` will split each column into a list of values separated by commas.\n",
    "\n",
    "Since the dataset file was set to a mode of `r`, it is vital to convert the values into floats. This is done after using separate `if` statements to append each value to its respective column. Now the columns are finally separated into respective lists, and we can use the standard deviation formulas for each column.\n",
    "***"
   ]
  },
  {
   "cell_type": "code",
   "execution_count": 3,
   "id": "599e31d9-e71b-49b6-80b2-75f2224c1909",
   "metadata": {},
   "outputs": [],
   "source": [
    "with open('data.csv', 'r') as file:\n",
    "    col1 = []\n",
    "    col2 = []\n",
    "    col3 = []\n",
    "\n",
    "    for col in file:\n",
    "        col = col.strip()\n",
    "        nr = col.split(',')\n",
    "        \n",
    "        if nr[0].strip():\n",
    "            col1.append(float(nr[0].strip()))\n",
    "        if nr[1].strip():\n",
    "            col2.append(float(nr[1].strip()))\n",
    "        if nr[2].strip():\n",
    "            col3.append(float(nr[2].strip()))"
   ]
  },
  {
   "cell_type": "code",
   "execution_count": 5,
   "id": "16932380-9f26-4869-9e22-46dbf646d8da",
   "metadata": {},
   "outputs": [
    {
     "name": "stdout",
     "output_type": "stream",
     "text": [
      "Column 1.\n",
      "**************************\n",
      "Loops: 0.2823721097353601\n",
      "Functions: 0.2823721097353601\n",
      "Numpy: 0.28237210973536014\n",
      "\n",
      "Column 2.\n",
      "**************************\n",
      "Loops: 0.28467443283850546\n",
      "Functions: 0.2846744328385061\n",
      "Numpy: 0.28467443283850596\n",
      "\n",
      "Column 3.\n",
      "**************************\n",
      "Loops: 0.2854045269476155\n",
      "Functions: 0.28540452694761564\n",
      "Numpy: 0.2854045269476156\n"
     ]
    }
   ],
   "source": [
    "print('Column 1.')\n",
    "print('**************************')\n",
    "print('Loops:', std_loops(col1))\n",
    "print('Functions:', std_builtin(col1))\n",
    "print('Numpy:', stdnumpy(col1))\n",
    "print()\n",
    "print('Column 2.')\n",
    "print('**************************')\n",
    "print('Loops:', std_loops(col2))\n",
    "print('Functions:', std_builtin(col2))\n",
    "print('Numpy:', stdnumpy(col2))\n",
    "print()\n",
    "print('Column 3.')\n",
    "print('**************************')\n",
    "print('Loops:', std_loops(col3))\n",
    "print('Functions:', std_builtin(col3))\n",
    "print('Numpy:', stdnumpy(col3))"
   ]
  },
  {
   "cell_type": "markdown",
   "id": "14c2b9e7-2c8a-403b-b347-f13b8c9a8a4b",
   "metadata": {},
   "source": [
    "***\n",
    "\n",
    "The values of the standard deviation for each column have now been calculated with each approach. \n",
    "\n",
    "We must now find the run-time of each approach for each column. The magic function `%timeit` allows us to do this. Below, the run-time of each approach is calculated starting with column 1. The first value in the 3 seperate outputs is the run-time for the loop approach, the second value is the run-time for the built-in approach, and lastly the third is for the NumPy approach. \n",
    "\n",
    "***"
   ]
  },
  {
   "cell_type": "code",
   "execution_count": 53,
   "id": "2e84cf37-c9d6-4e81-9969-8cdf0fb64744",
   "metadata": {},
   "outputs": [
    {
     "name": "stdout",
     "output_type": "stream",
     "text": [
      "18.8 μs ± 6.2 μs per loop (mean ± std. dev. of 7 runs, 10,000 loops each)\n",
      "\n",
      "15.4 μs ± 395 ns per loop (mean ± std. dev. of 7 runs, 100,000 loops each)\n",
      "\n",
      "31.7 μs ± 510 ns per loop (mean ± std. dev. of 7 runs, 10,000 loops each)\n"
     ]
    }
   ],
   "source": [
    "%timeit std_loops(col1)\n",
    "print()\n",
    "%timeit std_builtin(col1)\n",
    "print()\n",
    "%timeit stdnumpy(col1)"
   ]
  },
  {
   "cell_type": "code",
   "execution_count": 65,
   "id": "761fdd1e-980e-4369-865e-4e5233c0f855",
   "metadata": {},
   "outputs": [
    {
     "name": "stdout",
     "output_type": "stream",
     "text": [
      "198 μs ± 49.6 μs per loop (mean ± std. dev. of 7 runs, 1,000 loops each)\n",
      "\n",
      "144 μs ± 4.4 μs per loop (mean ± std. dev. of 7 runs, 10,000 loops each)\n",
      "\n",
      "94.3 μs ± 1.44 μs per loop (mean ± std. dev. of 7 runs, 10,000 loops each)\n"
     ]
    }
   ],
   "source": [
    "%timeit std_loops(col2)\n",
    "print()\n",
    "%timeit std_builtin(col2)\n",
    "print()\n",
    "%timeit stdnumpy(col2)"
   ]
  },
  {
   "cell_type": "code",
   "execution_count": 51,
   "id": "ab64deb1-8334-42a6-95b9-42e4f3d7752a",
   "metadata": {},
   "outputs": [
    {
     "name": "stdout",
     "output_type": "stream",
     "text": [
      "2.21 ms ± 278 μs per loop (mean ± std. dev. of 7 runs, 100 loops each)\n",
      "\n",
      "1.5 ms ± 66 μs per loop (mean ± std. dev. of 7 runs, 1,000 loops each)\n",
      "\n",
      "663 μs ± 4.85 μs per loop (mean ± std. dev. of 7 runs, 1,000 loops each)\n"
     ]
    }
   ],
   "source": [
    "%timeit std_loops(col3)\n",
    "print()\n",
    "%timeit std_builtin(col3)\n",
    "print()\n",
    "%timeit stdnumpy(col3)"
   ]
  },
  {
   "cell_type": "markdown",
   "id": "4af56dba-7320-4a1f-86eb-31c5308f3d3c",
   "metadata": {},
   "source": [
    "***"
   ]
  },
  {
   "cell_type": "markdown",
   "id": "d9cb6f72-2846-45c8-b96b-2edb060db0e0",
   "metadata": {},
   "source": [
    "# Analysis of Results"
   ]
  },
  {
   "cell_type": "markdown",
   "id": "ac2d9474-c09f-4faf-97d9-ad1f3be47d5c",
   "metadata": {},
   "source": [
    "### *Column 1 Analysis:*\n",
    "\n",
    "The execution time of each function calculating standard deviation for column 1, which contains 100 values between 0 and 1, \n",
    "shows clearly which function is the fastest. It is apparent that the function using built-in functions is\n",
    "the fastest. Although the approach using loops comes close, it is still slower, and the NumPy approach is the slowest."
   ]
  },
  {
   "cell_type": "markdown",
   "id": "24f21e07-bee2-4156-afda-619bf64303be",
   "metadata": {},
   "source": [
    "### *Column 2 Analysis:*\n",
    "\n",
    "This column contains 1000 values between 0 and 1. Here, the results differ from column 1. The medium-sized dataset leads to \n",
    "a general decrease in execution speed for all approaches. The function using NumPy outperforms the other functions significantly,\n",
    "while the loop function is the slowest. "
   ]
  },
  {
   "cell_type": "markdown",
   "id": "54fc3b11-a222-4ed2-9f60-e47d8bb9bdac",
   "metadata": {},
   "source": [
    "### *Column 3 Analysis:*\n",
    "\n",
    "Column 3 is the largest dataset, with 10 000 values, leading to a significant relative increase in execution time. However, \n",
    "NumPy once again is the clear winner out of all three approaches. It is, to a great extent, the fastest way of calculating\n",
    "the standard deviation for the largest dataset. Once again, the loop function is the slowest."
   ]
  },
  {
   "cell_type": "markdown",
   "id": "1a589a05-023c-4244-ab64-d613017c1bc6",
   "metadata": {},
   "source": [
    " ***"
   ]
  },
  {
   "cell_type": "markdown",
   "id": "966c2efe-5fa1-4110-80da-7398e4319a0e",
   "metadata": {},
   "source": [
    "## **Final Conclusion:**\n",
    "\n",
    "The approach for calculating standard deviation using NumPy becomes the most efficient method as the size of the dataset increases.\n",
    "However, for small datasets, it performs relatively slower. For small datasets, the built-in approach is the most efficient. The approach\n",
    "using loops is consistently the slowest performing function across all datasets, and is clearly the least efficient method for\n",
    "calculating standard deviation.\n",
    "Overall, the approach using NumPy is generally the most efficient - the built-in approach is only faster at the smallest dataset by a negligable amount, and NumPy clearly outperforms it for larger datasets. "
   ]
  },
  {
   "cell_type": "markdown",
   "id": "dafcd14d-8234-4d56-9e71-7d3947fac0c9",
   "metadata": {},
   "source": [
    "***"
   ]
  },
  {
   "cell_type": "code",
   "execution_count": null,
   "id": "94c83b0a-8b71-4592-9bc4-a8856ecff8ed",
   "metadata": {},
   "outputs": [],
   "source": []
  }
 ],
 "metadata": {
  "kernelspec": {
   "display_name": "Python 3 (ipykernel)",
   "language": "python",
   "name": "python3"
  },
  "language_info": {
   "codemirror_mode": {
    "name": "ipython",
    "version": 3
   },
   "file_extension": ".py",
   "mimetype": "text/x-python",
   "name": "python",
   "nbconvert_exporter": "python",
   "pygments_lexer": "ipython3",
   "version": "3.12.4"
  }
 },
 "nbformat": 4,
 "nbformat_minor": 5
}
